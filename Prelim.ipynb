{
 "cells": [
  {
   "cell_type": "code",
   "execution_count": 31,
   "metadata": {
    "collapsed": true
   },
   "outputs": [],
   "source": [
    "# from googlefinance import getQuotes\n",
    "import json\n",
    "import quandl\n",
    "import matplotlib.pyplot as plt\n",
    "import requests\n",
    "import pandas as pd\n",
    "import time"
   ]
  },
  {
   "cell_type": "code",
   "execution_count": 52,
   "metadata": {
    "collapsed": true
   },
   "outputs": [],
   "source": [
    "companies = ['AAL','AAPL','ADBE','ADI','ADP','ADSK','AKAM','ALXN','AMAT','AMD','AMGN','AMZN','ATVI','AVGO','BBBY','BIIB','CA','CBOE','CELG','CERN','CHRW','CHTR','CINF','CMCSA','CME','COST','CSCO','CSX','CTAS','CTSH','CTXS','DISCA','DISCK','DISH','DLTR','EA','EBAY','EQIX','ESRX','ETFC','EXPD','EXPE','FAST','FB','FFIV','FISV','FITB','FLIR','FOX','FOXA','GILD','GOOG','GOOGL','GRMN','GT','HAS','HBAN','HOLX','HSIC','IDXX','ILMN','INCY','INFO','INTC','INTU','ISRG','JBHT','KHC','KLAC','LKQ','LRCX','MAR','MAT','MCHP','MDLZ','MNST','MSFT','MU','MYL','NAVI','NDAQ','NFLX','NTAP','NTRS','NVDA','NWS','NWSA','ORLY','PAYX','PBCT','PCAR','PCLN','PDCO','PYPL','QCOM','QRVO','REGN','ROST','SBUX','SNI','SNPS','SPLS','SRCL','STX','SWKS','SYMC','TRIP','TROW','TSCO','TXN','ULTA','VIAB','VRSK','VRSN','VRTX','WBA','WDC','WFM','WLTW','WYNN','XLNX','XRAY','ZION','A','AAP','ABBV','ABC','ABT','ACN','ADM','ADS','AEE','AEP','AES','AET','AFL','AGN','AIG','AIV','AIZ','AJG','ALB','ALK','ALL','ALLE','AME','AMG','AMP','AMT','AN','ANTM','AON','APA','APC','APD','APH','ARE','ARNC','AVB','AVY','AWK','AXP','AYI','AZO','BA','BAC','BAX','BBT','BBY','BDX']"
   ]
  },
  {
   "cell_type": "code",
   "execution_count": 33,
   "metadata": {},
   "outputs": [
    {
     "data": {
      "image/png": "[encoded data removed]",
      "text/plain": [
       "<matplotlib.figure.Figure at 0x29a68e54470>"
      ]
     },
     "metadata": {},
     "output_type": "display_data"
    }
   ],
   "source": [
    "\n",
    "from alpha_vantage.timeseries import TimeSeries\n",
    "# from alpha_vantage.techindicators import TechIndicators\n",
    "import matplotlib.pyplot as plt\n",
    "\n",
    "# ti = TechIndicators(key='M5OK46Z2PZMHNUV8', output_format='pandas')\n",
    "# data, meta_data = ti.get_bbands(symbol='MSFT', interval='2min', time_period=60)\n",
    "\n",
    "ts = TimeSeries(key='M5OK46Z2PZMHNUV8', output_format='pandas')\n",
    "data, meta_data = ts.get_daily(symbol='BDX', outputsize='full')\n",
    "\n",
    "data['4. close'].plot()\n",
    "plt.title('Intraday Times Series for the MSFT stock (1 min)')\n",
    "plt.show()"
   ]
  },
  {
   "cell_type": "code",
   "execution_count": 54,
   "metadata": {},
   "outputs": [
    {
     "name": "stdout",
     "output_type": "stream",
     "text": [
      "AAL\n",
      "AAPL\n",
      "ADBE\n",
      "ADI\n",
      "ADP\n",
      "ADSK\n",
      "AKAM\n",
      "ALXN\n",
      "AMAT\n",
      "AMD\n",
      "AMGN\n",
      "AMZN\n",
      "ATVI\n",
      "AVGO\n",
      "BBBY\n",
      "BIIB\n",
      "CA\n",
      "CBOE\n",
      "CELG\n",
      "CERN\n",
      "CHRW\n",
      "CHTR\n",
      "CINF\n",
      "CMCSA\n",
      "CME\n",
      "COST\n",
      "CSCO\n",
      "CSX\n",
      "CTAS\n",
      "CTSH\n",
      "CTXS\n",
      "DISCA\n",
      "DISCK\n",
      "DISH\n",
      "DLTR\n",
      "EA\n",
      "EBAY\n",
      "EQIX\n",
      "ESRX\n",
      "ETFC\n",
      "EXPD\n",
      "EXPE\n",
      "FAST\n",
      "FB\n",
      "FFIV\n",
      "FISV\n",
      "FITB\n",
      "FLIR\n",
      "FOX\n",
      "FOXA\n",
      "GILD\n",
      "GOOG\n",
      "GOOGL\n",
      "GRMN\n",
      "GT\n",
      "HAS\n",
      "HBAN\n",
      "HOLX\n",
      "HSIC\n",
      "IDXX\n",
      "ILMN\n",
      "INCY\n",
      "INFO\n",
      "INTC\n",
      "INTU\n",
      "ISRG\n",
      "JBHT\n",
      "KHC\n",
      "KLAC\n",
      "LKQ\n",
      "LRCX\n",
      "MAR\n",
      "MAT\n",
      "MCHP\n",
      "MDLZ\n",
      "MNST\n",
      "MSFT\n",
      "MU\n",
      "MYL\n",
      "NAVI\n",
      "NDAQ\n",
      "NFLX\n",
      "NTAP\n",
      "NTRS\n",
      "NVDA\n",
      "NWS\n",
      "NWSA\n",
      "ORLY\n",
      "PAYX\n",
      "PBCT\n",
      "PCAR\n",
      "PCLN\n",
      "PDCO\n",
      "PYPL\n",
      "QCOM\n",
      "QRVO\n",
      "REGN\n",
      "ROST\n",
      "SBUX\n",
      "SNI\n",
      "SNPS\n",
      "SPLS\n",
      "SRCL\n",
      "STX\n",
      "SWKS\n",
      "SYMC\n",
      "TRIP\n",
      "TROW\n",
      "TSCO\n",
      "TXN\n",
      "ULTA\n",
      "VIAB\n",
      "VRSK\n",
      "VRSN\n",
      "VRTX\n",
      "WBA\n",
      "WDC\n",
      "WFM\n",
      "WLTW\n",
      "WYNN\n",
      "XLNX\n",
      "XRAY\n",
      "ZION\n",
      "A\n",
      "AAP\n",
      "ABBV\n",
      "ABC\n",
      "ABT\n",
      "ACN\n",
      "ADM\n",
      "ADS\n",
      "AEE\n",
      "AEP\n",
      "AES\n",
      "AET\n",
      "AFL\n",
      "AGN\n",
      "AIG\n",
      "AIV\n",
      "AIZ\n",
      "AJG\n",
      "ALB\n",
      "ALK\n",
      "ALL\n",
      "ALLE\n",
      "AME\n",
      "AMG\n",
      "AMP\n",
      "AMT\n",
      "AN\n",
      "ANTM\n",
      "AON\n",
      "APA\n",
      "APC\n",
      "APD\n",
      "APH\n",
      "ARE\n",
      "ARNC\n",
      "AVB\n",
      "AVY\n",
      "AWK\n",
      "AXP\n",
      "AYI\n",
      "AZO\n",
      "BA\n",
      "BAC\n",
      "BAX\n",
      "BBT\n",
      "BBY\n",
      "BDX\n"
     ]
    },
    {
     "data": {
      "text/html": [
       "<div>\n",
       "<style scoped>\n",
       "    .dataframe tbody tr th:only-of-type {\n",
       "        vertical-align: middle;\n",
       "    }\n",
       "\n",
       "    .dataframe tbody tr th {\n",
       "        vertical-align: top;\n",
       "    }\n",
       "\n",
       "    .dataframe thead th {\n",
       "        text-align: right;\n",
       "    }\n",
       "</style>\n",
       "<table border=\"1\" class=\"dataframe\">\n",
       "  <thead>\n",
       "    <tr style=\"text-align: right;\">\n",
       "      <th></th>\n",
       "    </tr>\n",
       "  </thead>\n",
       "  <tbody>\n",
       "  </tbody>\n",
       "</table>\n",
       "</div>"
      ],
      "text/plain": [
       "Empty DataFrame\n",
       "Columns: []\n",
       "Index: []"
      ]
     },
     "execution_count": 54,
     "metadata": {},
     "output_type": "execute_result"
    }
   ],
   "source": [
    "ts = TimeSeries(key='M5OK46Z2PZMHNUV8', output_format='pandas')\n",
    "stock_data1 = pd.DataFrame()\n",
    "for i in companies: \n",
    "    print(i)\n",
    "    data, meta_data = ts.get_daily(symbol=i, outputsize='full')\n",
    "    time.sleep(1)\n",
    "    stock_data1.append(data, ignore_index=True)\n",
    "stock_data1.head(6)"
   ]
  },
  {
   "cell_type": "code",
   "execution_count": 55,
   "metadata": {},
   "outputs": [
    {
     "data": {
      "text/html": [
       "<div>\n",
       "<style scoped>\n",
       "    .dataframe tbody tr th:only-of-type {\n",
       "        vertical-align: middle;\n",
       "    }\n",
       "\n",
       "    .dataframe tbody tr th {\n",
       "        vertical-align: top;\n",
       "    }\n",
       "\n",
       "    .dataframe thead th {\n",
       "        text-align: right;\n",
       "    }\n",
       "</style>\n",
       "<table border=\"1\" class=\"dataframe\">\n",
       "  <thead>\n",
       "    <tr style=\"text-align: right;\">\n",
       "      <th></th>\n",
       "    </tr>\n",
       "  </thead>\n",
       "  <tbody>\n",
       "  </tbody>\n",
       "</table>\n",
       "</div>"
      ],
      "text/plain": [
       "Empty DataFrame\n",
       "Columns: []\n",
       "Index: []"
      ]
     },
     "execution_count": 55,
     "metadata": {},
     "output_type": "execute_result"
    }
   ],
   "source": [
    "stock_data1.head(6)"
   ]
  },
  {
   "cell_type": "code",
   "execution_count": 44,
   "metadata": {
    "collapsed": true
   },
   "outputs": [],
   "source": [
    "c2 = ['BCR','BEN','BFB','BHI','BK','BLK','BLL','BMY','BRKB','BSX','BWA','BXP','C','CAG','CAH','CAT','CB','CBG','CBS','CCI','CCL','CF','CFG','CHD','CHK','CI','CL','CLX','CMA','CMG','CMI','CMS','CNC','CNP','COF','COG','COH','COL','COO','COP','COTY','CPB','CRM','CSRA','CTL','CVS','CVX','CXO','D','DAL','DD','DE','DFS','DG','DGX','DHI','DHR','DIS','DLPH','DLR','DOV','DOW','DPS','DRI','DTE','DUK','DVA','DVN','DXC','ECL','ED','EFX','EIX','EL','EMN','EMR','EOG','EQR','EQT','ES','ESS','ETN','ETR','EVHC','EW','EXC','EXR','F','FBHS','FCX','FDX','FE','FIS','FL','FLR','FLS','FMC','FRT','FTI','FTV','GD','GE','GGP','GIS','GLW','GM','GPC','GPN','GPS','GS','GWW','HAL','HBI','HCA','HCN','HCP','HD','HST','HSY','HUM','IBM','ICE','IFF','IP','IPG','IR','IRM','IT','ITW','IVZ','JCI','JEC','JNJ','JNPR','JPM','JWN','K','KEY','KIM','KMB','KMI','KMX','KO','KORS','KR','KSS']"
   ]
  },
  {
   "cell_type": "code",
   "execution_count": 53,
   "metadata": {},
   "outputs": [
    {
     "data": {
      "text/plain": [
       "170"
      ]
     },
     "execution_count": 53,
     "metadata": {},
     "output_type": "execute_result"
    }
   ],
   "source": [
    "stock_data2 = pd.DataFrame()\n",
    "for i in c2: \n",
    "    print(i)\n",
    "    data, meta_data = ts.get_daily(symbol=i, outputsize='full')\n",
    "    stock_data2.append(data, ignore_index=True)\n",
    "stock_data2.head(6)"
   ]
  },
  {
   "cell_type": "code",
   "execution_count": 50,
   "metadata": {
    "collapsed": true
   },
   "outputs": [],
   "source": [
    "c3 = ['MMM','MNK','MO','MON','MOS','MPC','MRK','MRO','MS','MSI','MTB','MUR','NBL','NEE','NEM','NFX','NI','NKE','NLSN','NOC','NOV','NRG','NSC','NUE','NWL','O','OKE','OMC','ORCL','OXY','PCG','PEG','PEP','PFE','PFG','PG','PGR','PH','PHM','PKI','PLD','PM','PNC','PNR','PNW','PPG','PPL','PRGO','PRU','PSA','PSX','PVH','PWR','PX','PXD','RAI','RCL','REG','RF','RHI','RHT','RIG','RJF','RL','ROK','ROP','RRC','RSG','RTN','SCG','SCHW','SEE','SHW','SIG','SJM','SLB','SLG','SNA','SO','SPG','SPGI','SRE','STI','STT','STZ','SWK','SYF','SYK','SYY','T','TAP','TDG','TEL','TGT','TIF','TJX','TMK','TMO','TRV','TSN','TSO','TSS','TWX','TXT','UA','UAA','UAL','UDR','UHS','UNH','UNM','UNP','UPS','URI','USB','UTX','V','VAR','VFC','VLO','VMC','VNO','VTR','VZ','WAT','WEC','WFC','WHR','WM','WMB','WMT','WRK','WU','WY','WYN','XEC','XEL','XL','XOM','XRX','XYL','YUM','ZBH','ZTS']"
   ]
  },
  {
   "cell_type": "code",
   "execution_count": null,
   "metadata": {
    "collapsed": true
   },
   "outputs": [],
   "source": [
    "stock_data3 = pd.DataFrame()\n",
    "for i in c3: \n",
    "    print(i)\n",
    "    data, meta_data = ts.get_daily(symbol=i, outputsize='full')\n",
    "    stock_data3.append(data, ignore_index=True)\n",
    "stock_data3.head(6)"
   ]
  },
  {
   "cell_type": "code",
   "execution_count": 48,
   "metadata": {
    "collapsed": true
   },
   "outputs": [],
   "source": [
    "c4 = ['HES','HIG','HOG','HON','HP','HPE','HPQ','HRB','HRL','HRS','KSU','L','LB','LEG','LEN','LH','LLL','LLY','LMT','LNC','LNT','LOW','LUK','LUV','LVLT','LYB','M','MA','MAA','MAC','MAS','MCD','MCK','MCO','MDT','MET','MHK','MKC','MLM','MMC']"
   ]
  },
  {
   "cell_type": "code",
   "execution_count": null,
   "metadata": {
    "collapsed": true
   },
   "outputs": [],
   "source": [
    "stock_data4 = pd.DataFrame()\n",
    "for i in c4: \n",
    "    print(i)\n",
    "    data, meta_data = ts.get_daily(symbol=i, outputsize='full')\n",
    "    stock_data4.append(data, ignore_index=True)\n",
    "stock_data4.head(6)"
   ]
  },
  {
   "cell_type": "code",
   "execution_count": 18,
   "metadata": {
    "collapsed": true
   },
   "outputs": [],
   "source": [
    "# json.dumps(getQuotes('AAPL'), indent=2)\n",
    "# data = quandl.get_table(\"EIA/PET_RWTC_D\",ticker=\"AAPL\")\n",
    "a = quandl.get(\"WIKI/AAPL\", rows=500000)"
   ]
  },
  {
   "cell_type": "code",
   "execution_count": 26,
   "metadata": {
    "scrolled": true
   },
   "outputs": [
    {
     "data": {
      "image/png": "[encoded data removed]",
      "text/plain": [
       "<matplotlib.figure.Figure at 0x108fe2b38>"
      ]
     },
     "metadata": {},
     "output_type": "display_data"
    }
   ],
   "source": [
    "plt.plot(a.index,a[\"Open\"],lw=2.0)\n",
    "fig = plt.gcf()\n",
    "fig.set_size_inches(18.5, 10.5)\n",
    "plt.grid()\n",
    "plt.show()"
   ]
  },
  {
   "cell_type": "code",
   "execution_count": 28,
   "metadata": {},
   "outputs": [
    {
     "data": {
      "text/html": [
       "<div>\n",
       "<style>\n",
       "    .dataframe thead tr:only-child th {\n",
       "        text-align: right;\n",
       "    }\n",
       "\n",
       "    .dataframe thead th {\n",
       "        text-align: left;\n",
       "    }\n",
       "\n",
       "    .dataframe tbody tr th {\n",
       "        vertical-align: top;\n",
       "    }\n",
       "</style>\n",
       "<table border=\"1\" class=\"dataframe\">\n",
       "  <thead>\n",
       "    <tr style=\"text-align: right;\">\n",
       "      <th></th>\n",
       "      <th>open</th>\n",
       "      <th>high</th>\n",
       "      <th>low</th>\n",
       "      <th>close</th>\n",
       "      <th>volume</th>\n",
       "    </tr>\n",
       "    <tr>\n",
       "      <th>date</th>\n",
       "      <th></th>\n",
       "      <th></th>\n",
       "      <th></th>\n",
       "      <th></th>\n",
       "      <th></th>\n",
       "    </tr>\n",
       "  </thead>\n",
       "  <tbody>\n",
       "    <tr>\n",
       "      <th>2017-02-09</th>\n",
       "      <td>129.5996</td>\n",
       "      <td>130.3823</td>\n",
       "      <td>129.0779</td>\n",
       "      <td>130.3577</td>\n",
       "      <td>28349859</td>\n",
       "    </tr>\n",
       "    <tr>\n",
       "      <th>2017-02-10</th>\n",
       "      <td>130.3970</td>\n",
       "      <td>130.8696</td>\n",
       "      <td>129.9934</td>\n",
       "      <td>130.0623</td>\n",
       "      <td>20065458</td>\n",
       "    </tr>\n",
       "    <tr>\n",
       "      <th>2017-02-13</th>\n",
       "      <td>131.0074</td>\n",
       "      <td>131.7358</td>\n",
       "      <td>130.6825</td>\n",
       "      <td>131.2141</td>\n",
       "      <td>23035421</td>\n",
       "    </tr>\n",
       "    <tr>\n",
       "      <th>2017-02-14</th>\n",
       "      <td>131.3913</td>\n",
       "      <td>132.9861</td>\n",
       "      <td>131.1747</td>\n",
       "      <td>132.9172</td>\n",
       "      <td>33226223</td>\n",
       "    </tr>\n",
       "    <tr>\n",
       "      <th>2017-02-15</th>\n",
       "      <td>133.4094</td>\n",
       "      <td>134.1477</td>\n",
       "      <td>132.5234</td>\n",
       "      <td>133.3995</td>\n",
       "      <td>35623100</td>\n",
       "    </tr>\n",
       "  </tbody>\n",
       "</table>\n",
       "</div>"
      ],
      "text/plain": [
       "                open      high       low     close    volume\n",
       "date                                                        \n",
       "2017-02-09  129.5996  130.3823  129.0779  130.3577  28349859\n",
       "2017-02-10  130.3970  130.8696  129.9934  130.0623  20065458\n",
       "2017-02-13  131.0074  131.7358  130.6825  131.2141  23035421\n",
       "2017-02-14  131.3913  132.9861  131.1747  132.9172  33226223\n",
       "2017-02-15  133.4094  134.1477  132.5234  133.3995  35623100"
      ]
     },
     "execution_count": 28,
     "metadata": {},
     "output_type": "execute_result"
    }
   ],
   "source": [
    "from iexfinance import get_historical_data\n",
    "from datetime import datetime\n",
    "\n",
    "start = datetime(2017, 2, 9)\n",
    "end = datetime(2017, 5, 24)\n",
    "\n",
    "df = get_historical_data(\"AAPL\", start=start, end=end, output_format='pandas',)\n",
    "df"
   ]
  },
  {
   "cell_type": "code",
   "execution_count": 60,
   "metadata": {
    "collapsed": true
   },
   "outputs": [],
   "source": [
    "out = requests.get(\"https://www.alphavantage.co/query?function=TIME_SERIES_INTRADAY&symbol=MSFT,APPL&interval=1min&outputsize=full&apikey=M5OK46Z2PZMHNUV8\")"
   ]
  },
  {
   "cell_type": "code",
   "execution_count": 56,
   "metadata": {
    "collapsed": true
   },
   "outputs": [],
   "source": [
    "res= out.json()\n",
    "a= []\n",
    "for k ,v in res[\"Time Series (1min)\"].items():\n",
    "    a.append(k)"
   ]
  },
  {
   "cell_type": "code",
   "execution_count": 59,
   "metadata": {},
   "outputs": [
    {
     "data": {
      "text/plain": [
       "('2018-04-02 09:30:00', '2018-04-13 16:00:00')"
      ]
     },
     "execution_count": 59,
     "metadata": {},
     "output_type": "execute_result"
    }
   ],
   "source": [
    "min(a),max(a)"
   ]
  },
  {
   "cell_type": "code",
   "execution_count": 61,
   "metadata": {
    "collapsed": true
   },
   "outputs": [],
   "source": [
    "res= out.json()"
   ]
  },
  {
   "cell_type": "code",
   "execution_count": 62,
   "metadata": {},
   "outputs": [
    {
     "data": {
      "text/plain": [
       "{'Error Message': 'Invalid API call. Please retry or visit the documentation (https://www.alphavantage.co/documentation/) for TIME_SERIES_INTRADAY.'}"
      ]
     },
     "execution_count": 62,
     "metadata": {},
     "output_type": "execute_result"
    }
   ],
   "source": [
    "res"
   ]
  },
  {
   "cell_type": "code",
   "execution_count": null,
   "metadata": {
    "collapsed": true
   },
   "outputs": [],
   "source": []
  }
 ],
 "metadata": {
  "kernelspec": {
   "display_name": "Python 3",
   "language": "python",
   "name": "python3"
  },
  "language_info": {
   "codemirror_mode": {
    "name": "ipython",
    "version": 3
   },
   "file_extension": ".py",
   "mimetype": "text/x-python",
   "name": "python",
   "nbconvert_exporter": "python",
   "pygments_lexer": "ipython3",
   "version": "3.6.3"
  }
 },
 "nbformat": 4,
 "nbformat_minor": 2
}
